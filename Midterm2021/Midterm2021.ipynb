{
 "cells": [
  {
   "cell_type": "markdown",
   "metadata": {},
   "source": [
    "# PHYS 321 Midterm 2021"
   ]
  },
  {
   "cell_type": "markdown",
   "metadata": {},
   "source": [
    "This midterm exam is an open-book, open-resource exam. However, you may not collaborate with anyone. Please send clarification questions and hint requests to me at [adrian.liu@mcgill.ca](mailto:adrian.liu2@mcgill.ca). Submission is via Github (more details below). The exam is due at 11:59:59 Eastern on February 25th, 2020.\n",
    "\n",
    "You may copy and paste code from your previous assignments, but __you must cite your sources__. E.g., if you want to use a function that you wrote in Coding Lab 02, please include the comment \"this function was copied from Coding Lab 02\"\n",
    "\n",
    "For questions that are more algebraic or conceptual, you may either: 1) type your answer here, 2) do your work on paper and scan it, or 3) write up your answer in a separate pdf document. If you decide to go with option 2 or 3 on any particular question, be sure to let us know which document to look at. (Or with option 2 you can also embed the image file in the notebook itself)."
   ]
  },
  {
   "cell_type": "markdown",
   "metadata": {},
   "source": [
    "## Question 1"
   ]
  },
  {
   "cell_type": "markdown",
   "metadata": {},
   "source": [
    "Place all of the midterm files in a folder within your Github repo. Then:"
   ]
  },
  {
   "cell_type": "markdown",
   "metadata": {},
   "source": [
    "__a)__ Perform an initial commit locally and push to your Github repo. Write down the commands you used below."
   ]
  },
  {
   "cell_type": "markdown",
   "metadata": {},
   "source": [
    "## Your answer here\n",
    "git add Midterm2021/ \\\n",
    "git commit -m \"Initial commit of Midterm folder\" \\\n",
    "git push origin main"
   ]
  },
  {
   "cell_type": "markdown",
   "metadata": {},
   "source": [
    "__b)__ Create a file named ``secret_treasure.txt``. Commit it. Now create a new branch. Write down the commands that you used."
   ]
  },
  {
   "cell_type": "markdown",
   "metadata": {},
   "source": [
    "## Your answer here\n",
    "touch secret_treasure.txt \\\n",
    "git add secret_treasure.txt \\\n",
    "git checkout -b Midterm_Q1_txt \\"
   ]
  },
  {
   "cell_type": "markdown",
   "metadata": {},
   "source": [
    "__c)__ Add the text ``I'm a Bayesian`` to the file in this new branch. In your old branch, add the text ``I'm a Frequentist``. Write down the commands that you used."
   ]
  },
  {
   "cell_type": "markdown",
   "metadata": {},
   "source": [
    "## Your answer here\n",
    "vim secret_treasure.txt \\\n",
    "i \\\n",
    "\"I'm a Bayesian\" \\\n",
    "ESC :wq! \\\n",
    "git add secret_treasure.txt \\\n",
    "git commit -m \"Add Bayesian text to secret_treasure\" \\\n",
    "git checkout main \\\n",
    "vim secret_treasure.txt \\\n",
    "i \\\n",
    "\"I'm a Frequentist\" \\\n",
    "ESC :wq! \\\n",
    "git add secret_treasure.txt \\\n",
    "git commit -m \"Add Frequentist text to secret_treasure\" \\"
   ]
  },
  {
   "cell_type": "markdown",
   "metadata": {},
   "source": [
    "__d)__ Merge the changes from your new branch to your old branch. If you get a merge conflict, deal with it in whatever way you want. Write down the commands that you used."
   ]
  },
  {
   "cell_type": "markdown",
   "metadata": {},
   "source": [
    "## Your answer here\n",
    "git merge Midterm_Q1_txt \\\n",
    "vim secret_treasure.txt \\\n",
    "i \\\n",
    "removed the conflict head, etc \\\n",
    "ESC :wq! \\\n",
    "git add secret_treasure.txt \\\n",
    "git commit -m \"Resolve branch conflict in secret_treasure.txt\" \\\n",
    "git push origin main \\"
   ]
  },
  {
   "cell_type": "markdown",
   "metadata": {},
   "source": [
    "Push your local changes to your Github repo to complete this problem."
   ]
  },
  {
   "cell_type": "markdown",
   "metadata": {},
   "source": [
    "## Question 2"
   ]
  },
  {
   "cell_type": "markdown",
   "metadata": {},
   "source": [
    "In Coding Lab 01, we discussed how the sidereal day is shorter than a solar day by 4 minutes. Is it possible for the sidereal day on some planet to be __longer__ than the solar day? Explain. If it's helpful, you may include a diagram of some sort."
   ]
  },
  {
   "cell_type": "markdown",
   "metadata": {},
   "source": [
    "## Your answer here\n",
    "The Earth's sidereal day is shorter than a solar day because the Earth's direction of rotation is the same as its direction of orbit about the Sun, stretching the solar day slightly. On the other hand, a planet whose direction of rotation was opposite to its direction of orbit about its star would experience slightly shortened solar days; in this way we could have a planet where the sidereal day is longer than the solar day."
   ]
  },
  {
   "cell_type": "markdown",
   "metadata": {},
   "source": [
    "## Question 3"
   ]
  },
  {
   "cell_type": "markdown",
   "metadata": {},
   "source": [
    " Consider the following HR diagram:"
   ]
  },
  {
   "cell_type": "markdown",
   "metadata": {},
   "source": [
    "<div>\n",
    "<img src=\"HR_filled.png\" width=\"400\">\n",
    "</div>"
   ]
  },
  {
   "cell_type": "markdown",
   "metadata": {},
   "source": [
    " The $b$ colour is measured through a filter that permits light to pass through if it is within the wavelength range $300\\,\\textrm{nm} \\lesssim \\lambda \\lesssim 650\\,\\textrm{nm}$. The $r$ (``red\") filter allows light in the range $650\\,\\textrm{nm} \\lesssim \\lambda \\lesssim 1000\\,\\textrm{nm}$ to pass through. The $g$ filter covers both ranges."
   ]
  },
  {
   "cell_type": "markdown",
   "metadata": {},
   "source": [
    "__a)__ Which side (the left side or the right side) of the HR diagrams corresponds to bluer stars?"
   ]
  },
  {
   "cell_type": "code",
   "execution_count": 7,
   "metadata": {},
   "outputs": [],
   "source": [
    "## Your answer here"
   ]
  },
  {
   "cell_type": "markdown",
   "metadata": {},
   "source": [
    "__b)__ Star $\\#1$ has a $(b-r)$ colour of 3.5, while Star $\\#2$ has a $(b-r)$ colour of 2. Which star has the higher luminosity? What is the ratio of their luminosities?"
   ]
  },
  {
   "cell_type": "markdown",
   "metadata": {},
   "source": [
    "## Your answer here\n",
    "Star #2 has the higher luminosity (explain and find the ratio of luminosities)"
   ]
  },
  {
   "cell_type": "markdown",
   "metadata": {},
   "source": [
    "__c)__ Suppose you see a star with an apparent $g$-band magnitude of 8. The star has $(b-r)$ colour of $1$. How far away is this star?"
   ]
  },
  {
   "cell_type": "code",
   "execution_count": 9,
   "metadata": {},
   "outputs": [],
   "source": [
    "## Your answer here"
   ]
  },
  {
   "cell_type": "markdown",
   "metadata": {},
   "source": [
    "__d)__ In the previous part, were you computing an angular diameter distance or a luminosity distance? Suppose you had computed the other one instead. Would the answer have been very similar, or would it have been quite different?"
   ]
  },
  {
   "cell_type": "code",
   "execution_count": 10,
   "metadata": {},
   "outputs": [],
   "source": [
    "## Your answer here"
   ]
  },
  {
   "cell_type": "markdown",
   "metadata": {},
   "source": [
    "__e)__ What is the redshift at which an object's angular diameter distance and its luminosity distance differ by $10\\%$? How old was our Universe when it emitted the light that we see today? How much smaller or larger was the universe back then compared to now?"
   ]
  },
  {
   "cell_type": "code",
   "execution_count": 11,
   "metadata": {},
   "outputs": [],
   "source": [
    "## Your answer here\n",
    "#Make a plot of D_angD and D_L as functions of z, find the point where they differ by 10%,\n",
    "#convert this z value to age (maybe using scale factor a? Not sure)"
   ]
  },
  {
   "cell_type": "markdown",
   "metadata": {},
   "source": [
    "## Question 4"
   ]
  },
  {
   "cell_type": "markdown",
   "metadata": {},
   "source": [
    "You and your friends are on holiday in southern California, where it doesn’t rain very much: 5 out of 365 days per year. You want to go to the beach tomorrow. Unfortunately, the weather forecast says that it will rain tomorrow. When it actually rains, the forecast is correct 90\\% of the time. When it doesn’t, there is a 10\\% chance that rain is incorrectly predicted by the forecast. What is the probability that it will rain tomorrow, knowing what the weather forecast says?"
   ]
  },
  {
   "cell_type": "markdown",
   "metadata": {},
   "source": [
    "## Your answer here\n",
    "P(rain) = 5/365 = 0.0137 \\\n",
    "P(forecast rain| rain) = 0.9 \\\n",
    "P(forecast rain| no rain) = 0.1\n",
    "\n",
    "\n",
    "P(rain) = P(rain| forecast rain)*P(forecast rain) + P(rain| forecast no rain)*(1-P(forecast rain)) \\\n",
    "Using P(forecast no rain) = 1 - P(forecast rain)\n",
    "\n",
    "P(forecast rain) = P(forecast rain| rain)*P(rain) + P(forecast rain| no rain)*(1-P(rain)) \\\n",
    "Plugging in our given values, we find: \\\n",
    "P(forecast rain) = 0.111 \n",
    "\n",
    "Now Bayes' Thm Gives: \\\n",
    "P(rain| forecast rain) = P(forecast rain| rain)*P(rain)/(P(forecast rain)) \n",
    "\n",
    "Plugging in our given values and calculated P(forecast rain): \\\n",
    "P(rain| forecast rain) = 0.111"
   ]
  },
  {
   "cell_type": "markdown",
   "metadata": {},
   "source": [
    "## Question 5"
   ]
  },
  {
   "cell_type": "markdown",
   "metadata": {},
   "source": [
    "The probability distribution for the speed $v$ of a particle in an ideal gas is given by the _Maxwell-Boltzmann_ distribution:\n",
    "\n",
    "\\begin{equation}\n",
    "4 \\pi \\left(\\frac{m}{2 \\pi k_b T} \\right)^{3/2}  v^2 \\exp \\left( \\frac{-mv^2}{2 k_b T} \\right),\n",
    "\\end{equation}\n",
    "\n",
    "where $k_b$ is Boltzmann's constant, $m$ is the mass of an atom in the gas, and $T$ is the temperature. You can integrate this to confirm that it's correctly normalized if you like! (Incidentally, the wikipedia page on the Maxwell-Boltzmann distribution contains some typos, and a bunch of their expressions are incorrect)."
   ]
  },
  {
   "cell_type": "markdown",
   "metadata": {},
   "source": [
    "__a)__ Suppose we have an ideal gas in the lab. Let's assume that we know what type of gas we have, so the mass is known. To simplify matters, work in units where $m / k_b = 1$. You go into the lab and you make _one_ measurement of velocity (i.e., you measure the speed of _one_ atom). You get $v = 20$ (in our weird units).\n",
    "\n",
    "You'd like to know the temperature of the gas. Prof. Mxyptlk says \"the temperature measures the _average_ kinetic energy of a particle; therefore, with just a single speed measurement we can't know anything about the temperature\". Prove Prof. Mxyptlk wrong by inferring what you can about $T$, the temperature of the gas."
   ]
  },
  {
   "cell_type": "code",
   "execution_count": 13,
   "metadata": {},
   "outputs": [],
   "source": [
    "## Your answer here"
   ]
  },
  {
   "cell_type": "markdown",
   "metadata": {},
   "source": [
    "__b)__ What is the 95\\% credibility region for your inferred $T$?"
   ]
  },
  {
   "cell_type": "code",
   "execution_count": 14,
   "metadata": {},
   "outputs": [],
   "source": [
    "## Your answer here"
   ]
  },
  {
   "cell_type": "markdown",
   "metadata": {},
   "source": [
    "__c)__ You take a few more measurements: $v=(30, 28.5, 18, 15, 20, 20)$. Update your knowledge of $T$, stating your assumptions."
   ]
  },
  {
   "cell_type": "code",
   "execution_count": 16,
   "metadata": {},
   "outputs": [],
   "source": [
    "## Your answer here"
   ]
  },
  {
   "cell_type": "markdown",
   "metadata": {},
   "source": [
    "__d)__ Prof. Mxyptlk says \"ok, ok, but you had to know the mass of the gas. If you didn't know $m$ separately and had to infer $m$ and $T$ simultaneously, you wouldn't get a nice well-defined peak in your probability distribution for $v$. You'd basically find that any value of $T$ is possible.\" Do you agree with Prof. Mxyptlk?\n",
    "\n",
    "* If you agree, explain why and give an example of a probability distribution where reasonable simultaneous constraints on $v$ and $T$ are still possible (i.e., imagine you have the ability to modify the laws of nature to slightly modify the Maxwell-Boltzmann distribution).\n",
    "* If you disagree, explain why Prof. Mxyptlk is incorrect.\n"
   ]
  },
  {
   "cell_type": "code",
   "execution_count": 17,
   "metadata": {},
   "outputs": [],
   "source": [
    "## Your answer here"
   ]
  },
  {
   "cell_type": "markdown",
   "metadata": {},
   "source": [
    "## Question 6"
   ]
  },
  {
   "cell_type": "markdown",
   "metadata": {},
   "source": [
    "Kevin likes dumplings. He goes to inspect a dumpling factory, where they claim that the length of their dumplings $L$ is Gaussian distributed with mean $4\\,\\textrm{cm}$ and a standard deviation of $1\\,\\textrm{cm}$. Kevin randomly selects $10$ dumplings and measures their lengths, obtaining\n",
    "\n",
    "$L = (5.61, 2.22, 3.11, 6.01, 4.79, 3.70, 2.67, 3.90, 3.86, 3.48)\\,\\textrm{cm}$\n",
    "\n"
   ]
  },
  {
   "cell_type": "markdown",
   "metadata": {},
   "source": [
    "__a)__ Use Bayesian inference to infer the posterior distribution for the mean and standard deviation of dumpling size at this factory. Display your results graphically."
   ]
  },
  {
   "cell_type": "code",
   "execution_count": 49,
   "metadata": {},
   "outputs": [
    {
     "name": "stdout",
     "output_type": "stream",
     "text": [
      "Posterior probability of given data for mu= 4 sig= 1 : P= 0.7884731006467751\n"
     ]
    }
   ],
   "source": [
    "## Your answer here\n",
    "import matplotlib.pyplot as plt\n",
    "from scipy.stats import norm\n",
    "\n",
    "D = [5.61, 2.22, 3.11, 6.01, 4.79, 3.70, 2.67, 3.90, 3.86, 3.48]\n",
    "\n",
    "def likelihood_single(d, mu, sig):\n",
    "    #Calculate likelihood of a single data point given a gaussian model with specified mu and sigma\n",
    "    return norm.pdf(d, loc=mu, scale=sig)\n",
    "\n",
    "def likelihood(D, mu, sig):\n",
    "    #Calculate the likelihood of a set of data points given a gaussian model with specified mu and sigma\n",
    "    P_likelihood = 1\n",
    "    for i in range(len(D)):\n",
    "        P_likelihood_single = likelihood_single(D[i], mu, sig)\n",
    "        P_likelihood = P_likelihood*P_likelihood_single\n",
    "    \n",
    "    return P_likelihood\n",
    "\n",
    "def prior_mu(mu, upper_lim=10, lower_lim=0):\n",
    "    #Calculate prior on mu with uniform distribution\n",
    "    if mu<upper_lim and mu>lower_lim:\n",
    "        P_prior_mu = 1/10\n",
    "    else:\n",
    "        P_prior_mu = 0\n",
    "    return P_prior_mu\n",
    "\n",
    "def prior_sig(sig, upper_lim=5, lower_lim=0):\n",
    "    #Calculate prior on sigma with uniform distribution\n",
    "    if sig<upper_lim and sig>lower_lim:\n",
    "        P_prior_sig = 1/5\n",
    "    else:\n",
    "        P_prior_sig = 0\n",
    "    return P_prior_sig\n",
    "    \n",
    "def prior(mu, sig):\n",
    "    #Calculate prior on gaussian model with params mu and sigma, each param modeled by uniform distribution\n",
    "    P_prior = prior_mu(mu)*prior_sig(sig)\n",
    "    return P_prior\n",
    "    \n",
    "def normalization(D):\n",
    "    \n",
    "    mu_min = 1\n",
    "    mu_max = 10\n",
    "    N_mu = mu_max - mu_min\n",
    "    sig_min = 0.1\n",
    "    sig_max = 5\n",
    "    N_sig = sig_max - 0\n",
    "    \n",
    "    norm = 0\n",
    "    mu = 1\n",
    "    for m in range(N_mu):\n",
    "        sig = 0.1\n",
    "        for s in range(N_sig):\n",
    "            #print('likelihood',likelihood(D, mu, sig))\n",
    "            #print('prior',prior(mu, sig))\n",
    "            norm += likelihood(D, mu, sig)*prior(mu, sig)\n",
    "            #print('norm',norm)\n",
    "            \n",
    "            if sig == 0.1:\n",
    "                sig += 0.9\n",
    "            else:\n",
    "                sig += 1\n",
    "        mu += 1\n",
    "    \n",
    "    return norm\n",
    "\n",
    "def posterior(D, mu, sig):\n",
    "    #Calculate posterior probability of a gaussian model with params mu and sigma given a set of data\n",
    "    \n",
    "    #Get normalization factor\n",
    "    norm = normalization(D)\n",
    "    #Calculate normalized posterior probability\n",
    "    P_posterior = likelihood(D, mu, sig)*prior(mu, sig)/norm\n",
    "    return P_posterior\n",
    "\n",
    "#Testing the posterior probability calculation\n",
    "mu = 4\n",
    "sig = 1\n",
    "P_posterior = posterior(D, 4, 1)\n",
    "print('Posterior probability of given data for mu=',mu,'sig=',sig,': P=',P_posterior)"
   ]
  },
  {
   "cell_type": "code",
   "execution_count": 90,
   "metadata": {},
   "outputs": [
    {
     "data": {
      "text/plain": [
       "Text(0, 0.5, 'Posterior probability')"
      ]
     },
     "execution_count": 90,
     "metadata": {},
     "output_type": "execute_result"
    },
    {
     "data": {
      "image/png": "[encoded data removed]",
      "text/plain": [
       "<Figure size 432x288 with 1 Axes>"
      ]
     },
     "metadata": {
      "needs_background": "light"
     },
     "output_type": "display_data"
    },
    {
     "data": {
      "image/png": "[encoded data removed]",
      "text/plain": [
       "<Figure size 432x288 with 1 Axes>"
      ]
     },
     "metadata": {
      "needs_background": "light"
     },
     "output_type": "display_data"
    }
   ],
   "source": [
    "#List of mu and sigma values to plot the probability over\n",
    "import numpy as np\n",
    "\n",
    "npts = 1000\n",
    "mu_vals = np.linspace(0.1,9.9,npts)\n",
    "sig_vals = np.linspace(0.1,4.9,npts)\n",
    "\n",
    "#Plot the probability as a function of mu, holding sig=1 fixed\n",
    "sig = 1\n",
    "P_vals = []\n",
    "for i in range(npts):\n",
    "    P_vals.append(posterior(D,mu_vals[i],sig))\n",
    "\n",
    "plt.figure()\n",
    "plt.plot(mu_vals, P_vals)\n",
    "plt.title('Posterior probability of dumpling length mean')\n",
    "plt.xlabel('Dumpling length mean (cm)')\n",
    "plt.ylabel('Posterior probability')\n",
    "\n",
    "#Plot the probability as a function of sig, holding mu=4 fixed\n",
    "mu = 4\n",
    "P_vals = []\n",
    "for i in range(npts):\n",
    "    P_vals.append(posterior(D,mu,sig_vals[i]))\n",
    "\n",
    "P_vals = P_vals/sum(P_vals)\n",
    "\n",
    "plt.figure()\n",
    "plt.plot(sig_vals, P_vals)\n",
    "plt.title('Posterior probability of dumpling length standard deviation')\n",
    "plt.xlabel('Dumpling length standard deviation (cm)')\n",
    "plt.ylabel('Posterior probability')"
   ]
  },
  {
   "cell_type": "markdown",
   "metadata": {},
   "source": [
    "__b)__ What Kevin really cares about is consistency. It doesn't really matter to him whether the dumplings are big or small. What's unacceptable to him is a standard deviation that's larger than $1\\,\\textrm{cm}$. Should Kevin be worried? Make your argument in a quantitative manner."
   ]
  },
  {
   "cell_type": "code",
   "execution_count": 98,
   "metadata": {},
   "outputs": [
    {
     "name": "stdout",
     "output_type": "stream",
     "text": [
      "Probability of standard deviation less than 1.0033033033033034 is 0.148\n"
     ]
    }
   ],
   "source": [
    "## Your answer here\n",
    "\n",
    "def cumulative_probability(P_vals, x):\n",
    "    #Calculate the point where the cumulative probability reaches a value x by integrating the probability from 0 to x\n",
    "    P_c = 0\n",
    "    ind_found = False\n",
    "    for i in range(len(P_vals)):\n",
    "        P_c += P_vals[i]\n",
    "        #Check if we've reached the desired cumulative probability threshold\n",
    "        if P_c > x and ind_found==False:\n",
    "            ind_x = i\n",
    "            ind_found = True\n",
    "    \n",
    "    return ind_x\n",
    "\n",
    "x = 0.148\n",
    "ind_x = cumulative_probability(P_vals, x)\n",
    "sig_x = sig_vals[ind_x]\n",
    "print('Probability of standard deviation less than', sig_x, 'is',x)"
   ]
  },
  {
   "cell_type": "markdown",
   "metadata": {},
   "source": [
    "## Discussion\n",
    "By evaluating the cumulative distribution function, I found that only ~15% of the total area under the posterior probability curve for standard deviation (with mu=4 fixed) lies in the region where the standard deviation is less than 1 cm. Based upon this data, Kevin should be very worried that the standard deviation is actually larger than 1cm."
   ]
  },
  {
   "cell_type": "markdown",
   "metadata": {},
   "source": [
    "## Ungraded question"
   ]
  },
  {
   "cell_type": "markdown",
   "metadata": {},
   "source": [
    "I would like to tailor the last part of the course to your interests. Please fill out [this](https://forms.gle/BFJMx8HEnfQjjbuC9) anonymous survey to help me with that. This is not a graded part of your midterm, but now is just a convenient time to do it."
   ]
  },
  {
   "cell_type": "markdown",
   "metadata": {},
   "source": [
    "## Submission"
   ]
  },
  {
   "cell_type": "markdown",
   "metadata": {},
   "source": [
    "You're done! Do a final git commit, taking care to include everything relevant (e.g., if you have any embedded images). If you decide to revise your answers before the deadline, no problem---just make the changes you want to make and resubmit your work. Push your work to your repo."
   ]
  },
  {
   "cell_type": "code",
   "execution_count": null,
   "metadata": {},
   "outputs": [],
   "source": []
  }
 ],
 "metadata": {
  "kernelspec": {
   "display_name": "Python 3",
   "language": "python",
   "name": "python3"
  },
  "language_info": {
   "codemirror_mode": {
    "name": "ipython",
    "version": 3
   },
   "file_extension": ".py",
   "mimetype": "text/x-python",
   "name": "python",
   "nbconvert_exporter": "python",
   "pygments_lexer": "ipython3",
   "version": "3.7.3"
  }
 },
 "nbformat": 4,
 "nbformat_minor": 4
}
